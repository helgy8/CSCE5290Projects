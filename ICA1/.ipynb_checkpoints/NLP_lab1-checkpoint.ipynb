{
 "cells": [
  {
   "cell_type": "markdown",
   "metadata": {},
   "source": [
    "# Lesson"
   ]
  },
  {
   "cell_type": "code",
   "execution_count": 7,
   "metadata": {
    "colab": {
     "base_uri": "https://localhost:8080/"
    },
    "id": "zjhyv43EWrkW",
    "outputId": "e3a23755-2e7b-49b5-e14b-c6120e1c59ec"
   },
   "outputs": [
    {
     "name": "stderr",
     "output_type": "stream",
     "text": [
      "[nltk_data] Downloading package stopwords to\n",
      "[nltk_data]     /Users/helgy8/nltk_data...\n",
      "[nltk_data]   Package stopwords is already up-to-date!\n"
     ]
    },
    {
     "data": {
      "text/plain": [
       "True"
      ]
     },
     "execution_count": 7,
     "metadata": {},
     "output_type": "execute_result"
    }
   ],
   "source": [
    "import nltk\n",
    "# needed this to work in jupyter\n",
    "nltk.download('stopwords')"
   ]
  },
  {
   "cell_type": "code",
   "execution_count": null,
   "metadata": {
    "colab": {
     "base_uri": "https://localhost:8080/",
     "height": 323
    },
    "id": "sfoqPq-KWWwV",
    "outputId": "dea4fc91-ba51-42ea-b53d-e65d97e0b812"
   },
   "outputs": [],
   "source": [
    "from bs4 import BeautifulSoup\n",
    "\n",
    "import urllib.request\n",
    "\n",
    "import nltk\n",
    "\n",
    "from nltk.corpus import stopwords\n",
    "\n",
    "response = urllib.request.urlopen('http://php.net/')\n",
    "\n",
    "html = response.read()\n",
    "\n",
    "soup = BeautifulSoup(html,\"html5lib\")\n",
    "\n",
    "text = soup.get_text(strip=True)\n",
    "\n",
    "tokens = [t for t in text.split()]\n",
    "freq = nltk.FreqDist(tokens)\n",
    "\n",
    "freq.plot(20, cumulative=False)"
   ]
  },
  {
   "cell_type": "code",
   "execution_count": 3,
   "metadata": {
    "id": "6wv-IE-SWwZ1"
   },
   "outputs": [
    {
     "name": "stdout",
     "output_type": "stream",
     "text": [
      "PHP::1\n",
      "Hypertext:1\n",
      "PreprocessorDownloadsDocumentationGet:1\n",
      "InvolvedHelpGetting:1\n",
      "StartedIntroductionA:1\n",
      "simple:1\n",
      "tutorialLanguage:1\n",
      "ReferenceBasic:1\n",
      "syntaxTypesVariablesConstantsExpressionsOperatorsControl:1\n",
      "StructuresFunctionsClasses:1\n",
      "ObjectsNamespacesErrorsExceptionsGeneratorsAttributesReferences:1\n",
      "ExplainedPredefined:1\n",
      "VariablesPredefined:1\n",
      "ExceptionsPredefined:1\n",
      "Interfaces:1\n",
      "ClassesContext:1\n",
      "options:1\n",
      "parametersSupported:1\n",
      "Protocols:1\n",
      "WrappersSecurityIntroductionGeneral:1\n",
      "considerationsInstalled:1\n",
      "CGI:1\n",
      "binaryInstalled:1\n",
      "Apache:1\n",
      "moduleSession:1\n",
      "SecurityFilesystem:1\n",
      "SecurityDatabase:1\n",
      "SecurityError:1\n",
      "ReportingUser:1\n",
      "Submitted:1\n",
      "DataHiding:1\n",
      "PHPKeeping:1\n",
      "CurrentFeaturesHTTP:1\n",
      "authentication:1\n",
      "PHPCookiesSessionsDealing:1\n",
      "XFormsHandling:1\n",
      "file:1\n",
      "uploadsUsing:1\n",
      "remote:1\n",
      "filesConnection:1\n",
      "handlingPersistent:1\n",
      "Database:1\n",
      "ConnectionsCommand:1\n",
      "line:1\n",
      "usageGarbage:1\n",
      "CollectionDTrace:1\n",
      "Dynamic:1\n",
      "TracingFunction:1\n",
      "ReferenceAffecting:1\n",
      "PHP's:1\n",
      "BehaviourAudio:1\n",
      "Formats:1\n",
      "ManipulationAuthentication:1\n",
      "ServicesCommand:1\n",
      "Line:1\n",
      "Specific:2\n",
      "ExtensionsCompression:1\n",
      "Archive:1\n",
      "ExtensionsCryptography:1\n",
      "ExtensionsDatabase:1\n",
      "ExtensionsDate:1\n",
      "Time:1\n",
      "Related:4\n",
      "ExtensionsFile:1\n",
      "System:1\n",
      "ExtensionsHuman:1\n",
      "Language:1\n",
      "Character:1\n",
      "Encoding:1\n",
      "SupportImage:1\n",
      "Processing:1\n",
      "GenerationMail:1\n",
      "ExtensionsMathematical:1\n",
      "ExtensionsNon-Text:1\n",
      "MIME:1\n",
      "OutputProcess:1\n",
      "Control:1\n",
      "ExtensionsOther:2\n",
      "Basic:1\n",
      "ServicesSearch:1\n",
      "Engine:1\n",
      "ExtensionsServer:1\n",
      "ExtensionsSession:1\n",
      "ExtensionsText:1\n",
      "ProcessingVariable:1\n",
      "Type:1\n",
      "ExtensionsWeb:1\n",
      "ServicesWindows:1\n",
      "Only:1\n",
      "ExtensionsXML:1\n",
      "ManipulationGUI:1\n",
      "ExtensionsKeyboard:1\n",
      "Shortcuts?This:1\n",
      "helpjNext:1\n",
      "menu:2\n",
      "itemkPrevious:1\n",
      "itemg:1\n",
      "pPrevious:1\n",
      "man:2\n",
      "pageg:1\n",
      "nNext:1\n",
      "pageGScroll:1\n",
      "bottomg:1\n",
      "gScroll:1\n",
      "topg:1\n",
      "hGoto:1\n",
      "homepageg:1\n",
      "sGoto:1\n",
      "search(current:1\n",
      "page)/Focus:1\n",
      "search:1\n",
      "boxPHP:1\n",
      "popular:2\n",
      "general-purpose:1\n",
      "scripting:1\n",
      "language:1\n",
      "especially:1\n",
      "suited:1\n",
      "web:2\n",
      "development.Fast,:1\n",
      "flexible:1\n",
      "pragmatic,:1\n",
      "PHP:108\n",
      "powers:1\n",
      "everything:1\n",
      "blog:1\n",
      "websites:1\n",
      "world.Download8.0.10·Release:1\n",
      "Notes·Upgrading7.4.23·Release:1\n",
      "Notes·Upgrading7.3.30·Release:1\n",
      "Notes·Upgrading02:1\n",
      "Sep:1\n",
      "2021PHP:25\n",
      "8.1.0:11\n",
      "RC:3\n",
      "1:6\n",
      "available:7\n",
      "testingThe:7\n",
      "team:24\n",
      "pleased:7\n",
      "announce:7\n",
      "release:40\n",
      "8.1.0,:10\n",
      "1.:3\n",
      "This:24\n",
      "first:5\n",
      "candidate,:1\n",
      "continuing:2\n",
      "8.1:7\n",
      "cycle,:7\n",
      "rough:7\n",
      "outline:7\n",
      "specified:7\n",
      "thePHP:7\n",
      "Wiki.For:7\n",
      "source:42\n",
      "downloads:24\n",
      "please:24\n",
      "visit:24\n",
      "thedownload:7\n",
      "page.Please:7\n",
      "carefully:7\n",
      "test:14\n",
      "version:14\n",
      "report:7\n",
      "issues:8\n",
      "found:38\n",
      "thebug:7\n",
      "reporting:7\n",
      "system.Please:7\n",
      "DO:7\n",
      "NOT:7\n",
      "use:9\n",
      "production,:7\n",
      "early:7\n",
      "version.For:24\n",
      "information:7\n",
      "new:7\n",
      "features:7\n",
      "changes,:7\n",
      "read:7\n",
      "theNEWSfile:2\n",
      "theUPGRADINGfile:7\n",
      "complete:7\n",
      "list:24\n",
      "upgrading:7\n",
      "notes.:7\n",
      "These:7\n",
      "files:7\n",
      "also:7\n",
      "archive.The:7\n",
      "next:7\n",
      "second:2\n",
      "candidate:2\n",
      "(RC:2\n",
      "2),:1\n",
      "planned:7\n",
      "16:1\n",
      "September:2\n",
      "2021.The:7\n",
      "signatures:7\n",
      "inthe:6\n",
      "manifestor:6\n",
      "onthe:6\n",
      "QA:6\n",
      "site.Thank:7\n",
      "helping:7\n",
      "us:8\n",
      "make:7\n",
      "better.26:1\n",
      "Aug:7\n",
      "7.4.23:2\n",
      "Released!The:17\n",
      "development:17\n",
      "announces:17\n",
      "immediate:17\n",
      "availability:17\n",
      "7.4.23.:1\n",
      "security:8\n",
      "release.All:15\n",
      "7.4:7\n",
      "users:17\n",
      "encouraged:17\n",
      "upgrade:17\n",
      "ourdownloads:17\n",
      "page,:17\n",
      "Windows:17\n",
      "binaries:17\n",
      "onwindows.php.net/download/.:17\n",
      "The:18\n",
      "changes:17\n",
      "recorded:17\n",
      "theChangeLog.26:2\n",
      "7.3.30:2\n",
      "7.3.30.:1\n",
      "7.3:3\n",
      "8.0.10:2\n",
      "8.0.10.:1\n",
      "fix:8\n",
      "8.0:7\n",
      "theChangeLog.19:1\n",
      "Beta:12\n",
      "3:4\n",
      "3.:2\n",
      "third:2\n",
      "beta:3\n",
      "release,:1\n",
      "1),:1\n",
      "2:5\n",
      "better.05:1\n",
      "2.:2\n",
      "continues:4\n",
      "theNEWSfile,:5\n",
      "3,:2\n",
      "19:1\n",
      "better.29:1\n",
      "Jul:9\n",
      "7.4.22:2\n",
      "7.4.22.:1\n",
      "bug:9\n",
      "theChangeLog.29:3\n",
      "8.0.9:2\n",
      "8.0.9.:1\n",
      "theChangeLog.22:1\n",
      "2,:2\n",
      "5:1\n",
      "better.08:1\n",
      "Alpha:11\n",
      "testing:3\n",
      "1,:1\n",
      "22:1\n",
      "better.01:1\n",
      "7.4.21:2\n",
      "7.4.21.:1\n",
      "theChangeLog.01:2\n",
      "8.0.8:2\n",
      "8.0.8.:1\n",
      "7.3.29:2\n",
      "7.3.29.:1\n",
      "theChangeLog.24:1\n",
      "Jun:5\n",
      "8:1\n",
      "better.10:1\n",
      "starts:1\n",
      "24:1\n",
      "themanifestor:1\n",
      "theQA:1\n",
      "better.03:1\n",
      "8.0.7:2\n",
      "8.0.7.:1\n",
      "theChangeLog.03:1\n",
      "7.4.20:2\n",
      "7.4.20.:1\n",
      "theChangeLog.06:2\n",
      "May:2\n",
      "8.0.6:2\n",
      "8.0.6.:1\n",
      "reverts:2\n",
      "related:2\n",
      "PDO_pgsql:4\n",
      "introduced:2\n",
      "8.0.5.PHP:1\n",
      "7.4.19:2\n",
      "7.4.19.:1\n",
      "7.4.18.PHP:1\n",
      "theChangeLog.30:2\n",
      "Apr:3\n",
      "7.4.18:2\n",
      "7.4.18.:1\n",
      "8.0.5:2\n",
      "8.0.5.:1\n",
      "7.3.28:2\n",
      "7.3.28.:1\n",
      "Mar:3\n",
      "releases:2\n",
      "holdAsannouncedon:1\n",
      "php.internals:1\n",
      "mailing:1\n",
      "list,:1\n",
      "pair:1\n",
      "ofmaliciouscommitswere:1\n",
      "made:1\n",
      "code:1\n",
      "repository:1\n",
      "weekend.These:1\n",
      "commits:1\n",
      "immediately:1\n",
      "noticed:1\n",
      "reverted,:1\n",
      "thusnever:1\n",
      "reached:1\n",
      "end:1\n",
      "users.The:1\n",
      "investigation:1\n",
      "root:1\n",
      "cause:1\n",
      "exact:1\n",
      "scope:1\n",
      "compromise:1\n",
      "still:1\n",
      "ongoing,:1\n",
      "therefore:1\n",
      "put:1\n",
      "hold:1\n",
      "two:1\n",
      "weeks:1\n",
      "assuming:1\n",
      "discovered.Thank:1\n",
      "bearing:1\n",
      "endeavor:1\n",
      "ensure:1\n",
      "stable:1\n",
      "reliable:1\n",
      "platform:1\n",
      "development.04:1\n",
      "8.0.3:2\n",
      "8.0.3.:1\n",
      "theChangeLog.04:1\n",
      "7.4.16:2\n",
      "7.4.16.:1\n",
      "theChangeLog.Older:1\n",
      "News:1\n",
      "EntriesUpcoming:1\n",
      "conferencesPHP:1\n",
      "Conference:2\n",
      "Japan:1\n",
      "2021:1\n",
      "OnlineInternational:1\n",
      "Munich:1\n",
      "2021User:1\n",
      "Group:1\n",
      "EventsSpecial:1\n",
      "ThanksSocial:1\n",
      "media@official_phpCopyright:1\n",
      "©:1\n",
      "2001-2021:1\n",
      "GroupMy:1\n",
      "PHP.netContactOther:1\n",
      "PHP.net:1\n",
      "sitesPrivacy:1\n",
      "policyView:1\n",
      "Source:1\n"
     ]
    }
   ],
   "source": [
    "clean_tokens = tokens[:]\n",
    "\n",
    "sr = stopwords.words('english')\n",
    "\n",
    "for token in tokens:\n",
    "\n",
    "    if token in stopwords.words('english'):\n",
    "\n",
    "        clean_tokens.remove(token)\n",
    "\n",
    "freq = nltk.FreqDist(clean_tokens)\n",
    "\n",
    "for key,val in freq.items():\n",
    "\n",
    "    print (str(key) + ':' + str(val))\n"
   ]
  },
  {
   "cell_type": "code",
   "execution_count": 4,
   "metadata": {
    "colab": {
     "base_uri": "https://localhost:8080/",
     "height": 337
    },
    "id": "Iqtopu3HXTxh",
    "outputId": "b08c50ee-a20d-4c9b-f0bc-9161c9d28eba"
   },
   "outputs": [
    {
     "data": {
      "image/png": "[encoded data removed]",
      "text/plain": [
       "<Figure size 432x288 with 1 Axes>"
      ]
     },
     "metadata": {
      "needs_background": "light"
     },
     "output_type": "display_data"
    },
    {
     "data": {
      "text/plain": [
       "<AxesSubplot:xlabel='Samples', ylabel='Counts'>"
      ]
     },
     "execution_count": 4,
     "metadata": {},
     "output_type": "execute_result"
    }
   ],
   "source": [
    "freq.plot(20, cumulative=False)"
   ]
  },
  {
   "cell_type": "markdown",
   "metadata": {
    "id": "Abfb-1FtX8HA"
   },
   "source": [
    "# Exercise\n",
    "\n",
    "### stopwords not removed"
   ]
  },
  {
   "cell_type": "code",
   "execution_count": 5,
   "metadata": {
    "colab": {
     "base_uri": "https://localhost:8080/",
     "height": 307
    },
    "id": "7puQyQ0qXcTG",
    "outputId": "e34953a2-89a2-4587-f841-ef590eeb965b"
   },
   "outputs": [
    {
     "data": {
      "image/png": "[encoded data removed]",
      "text/plain": [
       "<Figure size 432x288 with 1 Axes>"
      ]
     },
     "metadata": {
      "needs_background": "light"
     },
     "output_type": "display_data"
    },
    {
     "data": {
      "text/plain": [
       "<AxesSubplot:xlabel='Samples', ylabel='Counts'>"
      ]
     },
     "execution_count": 5,
     "metadata": {},
     "output_type": "execute_result"
    }
   ],
   "source": [
    "# https://en.wikipedia.org/wiki/SpaceX\n",
    "\n",
    "# get html\n",
    "response = urllib.request.urlopen('https://en.wikipedia.org/wiki/SpaceX')\n",
    "\n",
    "html = response.read()\n",
    "\n",
    "soup = BeautifulSoup(html,\"html5lib\")\n",
    "\n",
    "# get text\n",
    "text = soup.get_text(strip=True)\n",
    "\n",
    "# get tokens\n",
    "tokens = [t for t in text.split()]\n",
    "# create distribution of top 10\n",
    "freq = nltk.FreqDist(tokens)\n",
    "\n",
    "freq.plot(10, cumulative=False)"
   ]
  },
  {
   "cell_type": "markdown",
   "metadata": {
    "id": "HmKnzbyXYHK9"
   },
   "source": [
    "### without stopwords"
   ]
  },
  {
   "cell_type": "code",
   "execution_count": 19,
   "metadata": {
    "colab": {
     "base_uri": "https://localhost:8080/",
     "height": 327
    },
    "id": "9TElbgXfYMjP",
    "outputId": "03dbd93d-1dd2-4c55-f73a-c7af7c5ebaf2"
   },
   "outputs": [
    {
     "data": {
      "image/png": "[encoded data removed]",
      "text/plain": [
       "<Figure size 432x288 with 1 Axes>"
      ]
     },
     "metadata": {
      "needs_background": "light"
     },
     "output_type": "display_data"
    }
   ],
   "source": [
    "clean_tokens = tokens[:]\n",
    "\n",
    "sr = stopwords.words('english')\n",
    "\n",
    "# strip stop words\n",
    "\n",
    "for token in tokens:\n",
    "\n",
    "    if token in stopwords.words('english'):\n",
    "\n",
    "        clean_tokens.remove(token)\n",
    "\n",
    "# do another distribution\n",
    "freq = nltk.FreqDist(clean_tokens)\n",
    "\n",
    "freq.plot(10, cumulative=False)"
   ]
  },
  {
   "cell_type": "code",
   "execution_count": 20,
   "metadata": {
    "colab": {
     "base_uri": "https://localhost:8080/"
    },
    "id": "ZAGgi0E7YYUw",
    "outputId": "5fad1cf7-c298-4dfa-96da-145152e84f9b"
   },
   "outputs": [
    {
     "name": "stdout",
     "output_type": "stream",
     "text": [
      "[('original', 175), ('SpaceX', 144), ('launch', 96), ('Falcon', 92), ('Retrieved1', 87), ('first', 80), ('9', 75), ('Space', 72), ('May', 69), ('March', 63)]\n"
     ]
    }
   ],
   "source": [
    "# get list of top 10 tokens\n",
    "values = list(freq.items())\n",
    "values = sorted(values, key=lambda x: x[1], reverse=True)[:10]\n",
    "print(values)\n"
   ]
  },
  {
   "cell_type": "code",
   "execution_count": 22,
   "metadata": {
    "colab": {
     "base_uri": "https://localhost:8080/",
     "height": 335
    },
    "id": "r7zQCPzLasXj",
    "outputId": "2ba6c40d-46b0-4e90-94b9-6198fa5a3f00"
   },
   "outputs": [
    {
     "data": {
      "text/plain": [
       "(array([ 1,  2,  3,  4,  5,  6,  7,  8,  9, 10]),\n",
       " <a list of 10 Text major ticklabel objects>)"
      ]
     },
     "execution_count": 22,
     "metadata": {},
     "output_type": "execute_result"
    },
    {
     "data": {
      "image/png": "[encoded data removed]",
      "text/plain": [
       "<Figure size 432x288 with 1 Axes>"
      ]
     },
     "metadata": {
      "needs_background": "light"
     },
     "output_type": "display_data"
    }
   ],
   "source": [
    "import matplotlib.pyplot as plt\n",
    "\n",
    "# create values for bar chart\n",
    "x = range(1, len(values) + 1)\n",
    "labels = [tup[0] for tup in values]\n",
    "y = [tup[1] for tup in values]\n",
    "\n",
    "# plot and rotate ticks\n",
    "plt.bar(x, y, tick_label=labels)\n",
    "plt.xticks(rotation=45)\n"
   ]
  }
 ],
 "metadata": {
  "colab": {
   "collapsed_sections": [],
   "name": "NLP_lab1.ipynb",
   "provenance": []
  },
  "kernelspec": {
   "display_name": "Python 3",
   "language": "python",
   "name": "python3"
  },
  "language_info": {
   "codemirror_mode": {
    "name": "ipython",
    "version": 3
   },
   "file_extension": ".py",
   "mimetype": "text/x-python",
   "name": "python",
   "nbconvert_exporter": "python",
   "pygments_lexer": "ipython3",
   "version": "3.8.5"
  }
 },
 "nbformat": 4,
 "nbformat_minor": 1
}
